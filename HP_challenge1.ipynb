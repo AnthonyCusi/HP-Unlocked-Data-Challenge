{
 "cells": [
  {
   "cell_type": "markdown",
   "metadata": {},
   "source": [
    "## Challenge 1: Creating a Data Visualization on Global Deforestation Patterns"
   ]
  },
  {
   "cell_type": "markdown",
   "metadata": {},
   "source": [
    "### **Import Libraries**"
   ]
  },
  {
   "cell_type": "code",
   "execution_count": null,
   "metadata": {},
   "outputs": [],
   "source": [
    "import pandas as pd\n",
    "import numpy as np\n",
    "\n",
    "import seaborn as sns\n",
    "import geopandas"
   ]
  },
  {
   "cell_type": "markdown",
   "metadata": {},
   "source": [
    "### **I. Loading and Exploring the Data**"
   ]
  },
  {
   "cell_type": "code",
   "execution_count": null,
   "metadata": {},
   "outputs": [
    {
     "data": {
      "text/html": [
       "<div>\n",
       "<style scoped>\n",
       "    .dataframe tbody tr th:only-of-type {\n",
       "        vertical-align: middle;\n",
       "    }\n",
       "\n",
       "    .dataframe tbody tr th {\n",
       "        vertical-align: top;\n",
       "    }\n",
       "\n",
       "    .dataframe thead th {\n",
       "        text-align: right;\n",
       "    }\n",
       "</style>\n",
       "<table border=\"1\" class=\"dataframe\">\n",
       "  <thead>\n",
       "    <tr style=\"text-align: right;\">\n",
       "      <th></th>\n",
       "      <th>Domain Code</th>\n",
       "      <th>Domain</th>\n",
       "      <th>Area Code (ISO3)</th>\n",
       "      <th>Area</th>\n",
       "      <th>Element Code</th>\n",
       "      <th>Element</th>\n",
       "      <th>Months Code</th>\n",
       "      <th>Months</th>\n",
       "      <th>Year Code</th>\n",
       "      <th>Year</th>\n",
       "      <th>Unit</th>\n",
       "      <th>Value</th>\n",
       "      <th>Flag</th>\n",
       "      <th>Flag Description</th>\n",
       "    </tr>\n",
       "  </thead>\n",
       "  <tbody>\n",
       "    <tr>\n",
       "      <th>0</th>\n",
       "      <td>ET</td>\n",
       "      <td>Temperature change</td>\n",
       "      <td>AFG</td>\n",
       "      <td>Afghanistan</td>\n",
       "      <td>7271</td>\n",
       "      <td>Temperature change</td>\n",
       "      <td>7016</td>\n",
       "      <td>Dec–Jan–Feb</td>\n",
       "      <td>1961</td>\n",
       "      <td>1961</td>\n",
       "      <td>°C</td>\n",
       "      <td>-0.751</td>\n",
       "      <td>Fc</td>\n",
       "      <td>Calculated data</td>\n",
       "    </tr>\n",
       "    <tr>\n",
       "      <th>1</th>\n",
       "      <td>ET</td>\n",
       "      <td>Temperature change</td>\n",
       "      <td>AFG</td>\n",
       "      <td>Afghanistan</td>\n",
       "      <td>7271</td>\n",
       "      <td>Temperature change</td>\n",
       "      <td>7016</td>\n",
       "      <td>Dec–Jan–Feb</td>\n",
       "      <td>1962</td>\n",
       "      <td>1962</td>\n",
       "      <td>°C</td>\n",
       "      <td>0.985</td>\n",
       "      <td>Fc</td>\n",
       "      <td>Calculated data</td>\n",
       "    </tr>\n",
       "    <tr>\n",
       "      <th>2</th>\n",
       "      <td>ET</td>\n",
       "      <td>Temperature change</td>\n",
       "      <td>AFG</td>\n",
       "      <td>Afghanistan</td>\n",
       "      <td>7271</td>\n",
       "      <td>Temperature change</td>\n",
       "      <td>7016</td>\n",
       "      <td>Dec–Jan–Feb</td>\n",
       "      <td>1963</td>\n",
       "      <td>1963</td>\n",
       "      <td>°C</td>\n",
       "      <td>1.931</td>\n",
       "      <td>Fc</td>\n",
       "      <td>Calculated data</td>\n",
       "    </tr>\n",
       "    <tr>\n",
       "      <th>3</th>\n",
       "      <td>ET</td>\n",
       "      <td>Temperature change</td>\n",
       "      <td>AFG</td>\n",
       "      <td>Afghanistan</td>\n",
       "      <td>7271</td>\n",
       "      <td>Temperature change</td>\n",
       "      <td>7016</td>\n",
       "      <td>Dec–Jan–Feb</td>\n",
       "      <td>1964</td>\n",
       "      <td>1964</td>\n",
       "      <td>°C</td>\n",
       "      <td>-2.056</td>\n",
       "      <td>Fc</td>\n",
       "      <td>Calculated data</td>\n",
       "    </tr>\n",
       "    <tr>\n",
       "      <th>4</th>\n",
       "      <td>ET</td>\n",
       "      <td>Temperature change</td>\n",
       "      <td>AFG</td>\n",
       "      <td>Afghanistan</td>\n",
       "      <td>7271</td>\n",
       "      <td>Temperature change</td>\n",
       "      <td>7016</td>\n",
       "      <td>Dec–Jan–Feb</td>\n",
       "      <td>1965</td>\n",
       "      <td>1965</td>\n",
       "      <td>°C</td>\n",
       "      <td>-0.669</td>\n",
       "      <td>Fc</td>\n",
       "      <td>Calculated data</td>\n",
       "    </tr>\n",
       "  </tbody>\n",
       "</table>\n",
       "</div>"
      ],
      "text/plain": [
       "  Domain Code              Domain Area Code (ISO3)         Area  Element Code  \\\n",
       "0          ET  Temperature change              AFG  Afghanistan          7271   \n",
       "1          ET  Temperature change              AFG  Afghanistan          7271   \n",
       "2          ET  Temperature change              AFG  Afghanistan          7271   \n",
       "3          ET  Temperature change              AFG  Afghanistan          7271   \n",
       "4          ET  Temperature change              AFG  Afghanistan          7271   \n",
       "\n",
       "              Element  Months Code       Months  Year Code  Year Unit  Value  \\\n",
       "0  Temperature change         7016  Dec–Jan–Feb       1961  1961   °C -0.751   \n",
       "1  Temperature change         7016  Dec–Jan–Feb       1962  1962   °C  0.985   \n",
       "2  Temperature change         7016  Dec–Jan–Feb       1963  1963   °C  1.931   \n",
       "3  Temperature change         7016  Dec–Jan–Feb       1964  1964   °C -2.056   \n",
       "4  Temperature change         7016  Dec–Jan–Feb       1965  1965   °C -0.669   \n",
       "\n",
       "  Flag Flag Description  \n",
       "0   Fc  Calculated data  \n",
       "1   Fc  Calculated data  \n",
       "2   Fc  Calculated data  \n",
       "3   Fc  Calculated data  \n",
       "4   Fc  Calculated data  "
      ]
     },
     "metadata": {},
     "output_type": "display_data"
    }
   ],
   "source": [
    "temp_data = pd.read_csv(\"temperature_change_data_11-29-2021.csv\")\n",
    "temp_data.head()"
   ]
  },
  {
   "cell_type": "code",
   "execution_count": null,
   "metadata": {},
   "outputs": [
    {
     "data": {
      "text/plain": [
       "Index(['Domain Code', 'Domain', 'Area Code (ISO3)', 'Area', 'Element Code',\n",
       "       'Element', 'Months Code', 'Months', 'Year Code', 'Year', 'Unit',\n",
       "       'Value', 'Flag', 'Flag Description'],\n",
       "      dtype='object')"
      ]
     },
     "metadata": {},
     "output_type": "display_data"
    }
   ],
   "source": [
    "temp_data.columns"
   ]
  },
  {
   "cell_type": "markdown",
   "metadata": {},
   "source": [
    "### **II. Filtering the Data**"
   ]
  },
  {
   "cell_type": "code",
   "execution_count": null,
   "metadata": {},
   "outputs": [
    {
     "name": "stdout",
     "output_type": "stream",
     "text": [
      "{'Central African Republic', 'Mozambique', 'Bhutan', 'Vanuatu', 'Wake Island', 'Denmark', 'Niger', 'Guadeloupe', 'Montserrat', 'Equatorial Guinea', 'Algeria', 'Midway Island', 'Tonga', 'France', 'Cayman Islands', 'Dominican Republic', 'Cocos (Keeling) Islands', 'Falkland Islands (Malvinas)', 'United Kingdom of Great Britain and Northern Ireland', 'United States of America', 'Italy', 'Iran (Islamic Republic of)', 'Bahrain', 'Sri Lanka', 'Nigeria', 'Australia', 'Namibia', 'Peru', 'Kiribati', 'Cameroon', 'Nepal', 'Thailand', 'Benin', 'Lesotho', 'Sierra Leone', 'China, Taiwan Province of', 'Nauru', \"Lao People's Democratic Republic\", 'Jamaica', 'Pitcairn', 'Réunion', 'Somalia', 'Sweden', 'Yemen', 'Anguilla', 'Oman', 'Burkina Faso', 'Dominica', 'Egypt', 'Antarctica', 'Liechtenstein', 'Paraguay', 'Svalbard and Jan Mayen Islands', 'French Guyana', 'Myanmar', 'Qatar', 'China, Macao SAR', 'United Arab Emirates', 'Cook Islands', 'Niue', 'Chad', 'El Salvador', 'Portugal', 'Cabo Verde', 'Singapore', 'Spain', 'Kuwait', 'Senegal', 'Tokelau', 'French Southern Territories', 'South Africa', 'Malaysia', 'Honduras', 'Norway', 'Saint Vincent and the Grenadines', 'Christmas Island', 'Israel', 'Belize', 'Brunei Darussalam', 'Libya', 'Ghana', 'Switzerland', 'Papua New Guinea', 'Maldives', 'Greenland', 'Argentina', 'Bolivia (Plurinational State of)', 'Uruguay', 'Grenada', 'India', 'Guinea-Bissau', 'Angola', 'Malawi', 'Canada', 'Colombia', 'Uganda', 'Saint Lucia', 'Iraq', 'Lebanon', 'Suriname', 'Turkey', 'Austria', 'Puerto Rico', 'Costa Rica', 'Comoros', 'Indonesia', 'Djibouti', 'Brazil', 'United Republic of Tanzania', 'New Caledonia', 'Samoa', 'Bahamas', 'Eswatini', 'Isle of Man', 'Morocco', 'Romania', 'Togo', 'Gambia', 'Mali', 'Viet Nam', 'Nicaragua', 'Burundi', 'Philippines', 'Zimbabwe', 'Rwanda', 'Jordan', 'Norfolk Island', 'Cyprus', 'Iceland', 'China', 'Hungary', 'Guyana', 'Sao Tome and Principe', 'Afghanistan', 'Japan', 'Aruba', 'Tunisia', 'Ireland', 'Ecuador', 'Andorra', 'Gabon', 'Martinique', \"Côte d'Ivoire\", 'Cuba', 'Wallis and Futuna Islands', \"Democratic People's Republic of Korea\", 'Saint Pierre and Miquelon', 'Netherlands Antilles (former)', 'Cambodia', 'Guinea', 'Fiji', 'Bangladesh', 'Holy See', 'Democratic Republic of the Congo', 'Channel Islands', 'China, mainland', 'Greece', 'Mexico', 'Panama', 'Republic of Korea', 'Guatemala', 'Palestine', 'Congo', 'Botswana', 'Bulgaria', 'French Polynesia', 'San Marino', 'Antigua and Barbuda', 'Chile', 'Faroe Islands', 'South Georgia and the South Sandwich Islands', 'Haiti', 'Turks and Caicos Islands', 'Barbados', 'New Zealand', 'Malta', 'Liberia', 'Mauritius', 'Seychelles', 'Venezuela (Bolivarian Republic of)', 'British Virgin Islands', 'Poland', 'Madagascar', 'Finland', 'Albania', 'Gibraltar', 'Saint Kitts and Nevis', 'Mongolia', 'American Samoa', 'Mayotte', 'United States Virgin Islands', 'Timor-Leste', 'Trinidad and Tobago', 'Saint Helena, Ascension and Tristan da Cunha', 'Western Sahara', 'Pakistan', 'Tuvalu', 'China, Hong Kong SAR', 'Syrian Arab Republic', 'Monaco', 'Kenya', 'Zambia', 'Saudi Arabia', 'Germany', 'Mauritania', 'Netherlands', 'Solomon Islands'}\n"
     ]
    }
   ],
   "source": [
    "# Choosing only countries that have data for each meteorological year\n",
    "\n",
    "countries_to_analyze = set()\n",
    "\n",
    "for country in temp_data['Area'].unique():\n",
    "    if len(temp_data.loc[(temp_data['Area'] == country) & (temp_data['Months'] == 'Meteorological year')]['Year'].unique()) == temp_data['Year'].max() - temp_data['Year'].min() + 1:\n",
    "        countries_to_analyze.add(country)\n",
    "\n",
    "print(countries_to_analyze)"
   ]
  }
 ],
 "metadata": {
  "kernelspec": {
   "display_name": "Python 3.9.7 64-bit",
   "language": "python",
   "name": "python3"
  },
  "language_info": {
   "name": "python",
   "version": "3.9.7"
  },
  "orig_nbformat": 4,
  "vscode": {
   "interpreter": {
    "hash": "397704579725e15f5c7cb49fe5f0341eb7531c82d19f2c29d197e8b64ab5776b"
   }
  }
 },
 "nbformat": 4,
 "nbformat_minor": 2
}
